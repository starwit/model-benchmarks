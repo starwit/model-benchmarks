{
 "cells": [
  {
   "cell_type": "code",
   "execution_count": null,
   "metadata": {},
   "outputs": [],
   "source": [
    "import pandas as pd\n",
    "import plotly.express as px\n",
    "from plotly.subplots import make_subplots\n",
    "import plotly.graph_objects as go\n",
    "\n",
    "def read_metrics(file_path):\n",
    "    metrics = pd.read_csv(file_path)\n",
    "    metrics['total_time_us'] = metrics['total_time_us'] - metrics['inference_start']\n",
    "    metrics['non_max_suppression'] = metrics['non_max_suppression'] - metrics['model']\n",
    "    metrics['model'] = metrics['model'] - metrics['inference_start']\n",
    "\n",
    "    metrics['inference_start'] = metrics['inference_start'] - metrics['inference_start'][0]\n",
    "\n",
    "    metrics.iloc(1)[:4] = metrics.iloc(1)[:4] // 1000\n",
    "    metrics = metrics[metrics['model'] < metrics['model'].quantile(0.99)]\n",
    "    metrics['model_per_frame'] = metrics['model'] // metrics['batch_size']\n",
    "    metrics['total_per_frame'] = metrics['total_time_us'] // metrics['batch_size']\n",
    "    return metrics\n",
    "\n",
    "def create_graph(metrics_list):\n",
    "    fig = make_subplots(rows=len(metrics_list), cols=1, shared_xaxes=True, vertical_spacing=0.05)\n",
    "    for idx, metric in enumerate(metrics_list):\n",
    "        fig.add_histogram(x=metric['total_per_frame'], row=idx+1, col=1, nbinsx=200)\n",
    "    fig.update_layout(height=150*len(metrics_list))\n",
    "    return fig\n",
    "    "
   ]
  },
  {
   "cell_type": "code",
   "execution_count": null,
   "metadata": {},
   "outputs": [],
   "source": [
    "files = [\n",
    "    'metrics_cpu_1.csv',\n",
    "    'metrics_cpu_3.csv',\n",
    "    'metrics_cpu_5.csv',\n",
    "    'metrics_cpu_10.csv',\n",
    "    'metrics_cpu_20.csv',\n",
    "]\n",
    "\n",
    "create_graph([read_metrics(f) for f in files]).show()\n"
   ]
  },
  {
   "cell_type": "code",
   "execution_count": null,
   "metadata": {},
   "outputs": [],
   "source": [
    "files = [\n",
    "    'metrics_gpu_5.csv',\n",
    "    'metrics_gpu_10.csv',\n",
    "    'metrics_gpu_20.csv',\n",
    "    'metrics_gpu_30.csv',\n",
    "    'metrics_gpu_50.csv',\n",
    "]\n",
    "\n",
    "create_graph([read_metrics(f) for f in files]).show()\n"
   ]
  },
  {
   "cell_type": "code",
   "execution_count": null,
   "metadata": {},
   "outputs": [],
   "source": [
    "fig2 = px.scatter(metrics, x=\"inference_start\", y=\"model\")\n",
    "fig2.show()"
   ]
  }
 ],
 "metadata": {
  "kernelspec": {
   "display_name": ".venv",
   "language": "python",
   "name": "python3"
  },
  "language_info": {
   "codemirror_mode": {
    "name": "ipython",
    "version": 3
   },
   "file_extension": ".py",
   "mimetype": "text/x-python",
   "name": "python",
   "nbconvert_exporter": "python",
   "pygments_lexer": "ipython3",
   "version": "3.10.6"
  },
  "orig_nbformat": 4
 },
 "nbformat": 4,
 "nbformat_minor": 2
}
